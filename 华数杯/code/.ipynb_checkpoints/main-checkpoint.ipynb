{
 "cells": [
  {
   "cell_type": "markdown",
   "id": "3e0ceee7",
   "metadata": {},
   "source": [
    "## 导入数据文件"
   ]
  },
  {
   "cell_type": "code",
   "execution_count": 6,
   "id": "e3769c71",
   "metadata": {
    "scrolled": true
   },
   "outputs": [
    {
     "name": "stdout",
     "output_type": "stream",
     "text": [
      "      编号  母亲年龄  婚姻状况  教育程度  妊娠时间（周数）  分娩方式  CBTS  EPDS  HADS 婴儿行为特征  ...  \\\n",
      "0      1    34     2     5      37.0     1     3    13     9    中等型  ...   \n",
      "1      2    33     2     5      42.0     1     0     0     3    安静型  ...   \n",
      "2      3    37     2     5      41.0     1     4     8     9    安静型  ...   \n",
      "3      4    31     2     5      37.5     1     6    16    13    安静型  ...   \n",
      "4      5    36     1     5      40.0     1     1     3     3    中等型  ...   \n",
      "..   ...   ...   ...   ...       ...   ...   ...   ...   ...    ...  ...   \n",
      "405  406    31     2     3      39.5     1     1     4     4    NaN  ...   \n",
      "406  407    26     2     2      37.0     1     4     9    14    NaN  ...   \n",
      "407  408    26     2     5      39.0     1     0     3     3    NaN  ...   \n",
      "408  409    27     2     5      41.2     1     0     0     4    NaN  ...   \n",
      "409  410    31     2     5      38.0     1     3     7     7    NaN  ...   \n",
      "\n",
      "     整晚睡眠时间（时：分：秒）  睡醒次数 入睡方式  Unnamed: 15  Unnamed: 16  Unnamed: 17  \\\n",
      "0         10:00:00   3.0  2.0          NaN          NaN          NaN   \n",
      "1         11:00:00   0.0  4.0          NaN   补充说明（数值含义）          NaN   \n",
      "2         12:00:00   1.0  2.0          NaN           数值         婚姻状况   \n",
      "3         11:00:00   2.0  1.0          NaN            1           未婚   \n",
      "4         10:30:00   1.0  4.0          NaN            2           已婚   \n",
      "..             ...   ...  ...          ...          ...          ...   \n",
      "405            NaN   NaN  NaN          NaN          NaN          NaN   \n",
      "406            NaN   NaN  NaN          NaN          NaN          NaN   \n",
      "407            NaN   NaN  NaN          NaN          NaN          NaN   \n",
      "408            NaN   NaN  NaN          NaN          NaN          NaN   \n",
      "409            NaN   NaN  NaN          NaN          NaN          NaN   \n",
      "\n",
      "    Unnamed: 18 Unnamed: 19 Unnamed: 20                           Unnamed: 21  \n",
      "0           NaN         NaN         NaN                                   NaN  \n",
      "1           NaN         NaN         NaN                                   NaN  \n",
      "2          教育程度        分娩方式        婴儿性别                                  入睡方式  \n",
      "3            小学        自然分娩          男性  哄睡法：通过轻声哄唤、摇晃、拍打等方式，使婴儿感到安全和舒适，进而入睡。  \n",
      "4            初中         剖宫产          女性         抚触法：通过轻柔的按摩、揉捏等方式，促进婴儿的放松和入睡。  \n",
      "..          ...         ...         ...                                   ...  \n",
      "405         NaN         NaN         NaN                                   NaN  \n",
      "406         NaN         NaN         NaN                                   NaN  \n",
      "407         NaN         NaN         NaN                                   NaN  \n",
      "408         NaN         NaN         NaN                                   NaN  \n",
      "409         NaN         NaN         NaN                                   NaN  \n",
      "\n",
      "[410 rows x 22 columns]\n",
      "(410, 22)\n"
     ]
    }
   ],
   "source": [
    "import pandas as pd\n",
    "\n",
    "df = pd.read_excel(\"../dataset/demo.xlsx\")\n",
    "\n",
    "print(df)\n",
    "print(df.shape)"
   ]
  },
  {
   "cell_type": "markdown",
   "id": "7187f048",
   "metadata": {},
   "source": [
    "**通过观察上面的数据发现，补充说明和特殊说明是数据无关项**\n",
    "\n",
    "**并且显然数据编号是数据无关项**"
   ]
  },
  {
   "cell_type": "code",
   "execution_count": 7,
   "id": "50435dcb",
   "metadata": {},
   "outputs": [
    {
     "name": "stdout",
     "output_type": "stream",
     "text": [
      "(410, 22)\n",
      "     母亲年龄  婚姻状况  教育程度  妊娠时间（周数）  分娩方式  CBTS  EPDS  HADS 婴儿行为特征  婴儿性别  婴儿年龄（月）  \\\n",
      "0      34     2     5      37.0     1     3    13     9    中等型     1        1   \n",
      "1      33     2     5      42.0     1     0     0     3    安静型     2        3   \n",
      "2      37     2     5      41.0     1     4     8     9    安静型     1        1   \n",
      "3      31     2     5      37.5     1     6    16    13    安静型     2        3   \n",
      "4      36     1     5      40.0     1     1     3     3    中等型     2        3   \n",
      "..    ...   ...   ...       ...   ...   ...   ...   ...    ...   ...      ...   \n",
      "405    31     2     3      39.5     1     1     4     4    NaN     2        2   \n",
      "406    26     2     2      37.0     1     4     9    14    NaN     2        2   \n",
      "407    26     2     5      39.0     1     0     3     3    NaN     1        1   \n",
      "408    27     2     5      41.2     1     0     0     4    NaN     1        1   \n",
      "409    31     2     5      38.0     1     3     7     7    NaN     2        2   \n",
      "\n",
      "    整晚睡眠时间（时：分：秒）  睡醒次数  入睡方式  \n",
      "0        10:00:00   3.0   2.0  \n",
      "1        11:00:00   0.0   4.0  \n",
      "2        12:00:00   1.0   2.0  \n",
      "3        11:00:00   2.0   1.0  \n",
      "4        10:30:00   1.0   4.0  \n",
      "..            ...   ...   ...  \n",
      "405           NaN   NaN   NaN  \n",
      "406           NaN   NaN   NaN  \n",
      "407           NaN   NaN   NaN  \n",
      "408           NaN   NaN   NaN  \n",
      "409           NaN   NaN   NaN  \n",
      "\n",
      "[410 rows x 14 columns]\n",
      "(410, 14)\n"
     ]
    }
   ],
   "source": [
    "print(df.shape)\n",
    "df = df.iloc[:, :15]\n",
    "df = df.drop(df.columns[0], axis=1)\n",
    "print(df)\n",
    "print(df.shape)"
   ]
  },
  {
   "cell_type": "code",
   "execution_count": 8,
   "id": "5eb5f9dd",
   "metadata": {},
   "outputs": [
    {
     "name": "stdout",
     "output_type": "stream",
     "text": [
      "数据量 410\n",
      "============================================\n",
      "数据特征数量 14\n",
      "============================================\n",
      "每一行的平均值\n",
      "0      9.250000\n",
      "1      7.916667\n",
      "2      9.333333\n",
      "3      9.958333\n",
      "4      8.333333\n",
      "         ...   \n",
      "405    8.950000\n",
      "406    9.900000\n",
      "407    8.100000\n",
      "408    8.220000\n",
      "409    9.800000\n",
      "Length: 410, dtype: float64\n",
      "(410,)\n",
      "============================================\n",
      "每一列的平均值\n",
      "母亲年龄        30.197561\n",
      "婚姻状况         2.002439\n",
      "教育程度         4.080488\n",
      "妊娠时间（周数）    39.114146\n",
      "分娩方式         1.012195\n",
      "CBTS         5.943902\n",
      "EPDS         9.048780\n",
      "HADS         7.839024\n",
      "婴儿性别         1.482927\n",
      "婴儿年龄（月）      1.958537\n",
      "睡醒次数         1.461538\n",
      "入睡方式         3.025641\n",
      "dtype: float64\n",
      "(12,)\n",
      "============================================\n",
      "每一行有多少缺失值\n",
      "0      0\n",
      "1      0\n",
      "2      0\n",
      "3      0\n",
      "4      0\n",
      "      ..\n",
      "405    4\n",
      "406    4\n",
      "407    4\n",
      "408    4\n",
      "409    4\n",
      "Length: 410, dtype: int64\n",
      "============================================\n",
      "每一列有多少缺失值\n",
      "母亲年龄              0\n",
      "婚姻状况              0\n",
      "教育程度              0\n",
      "妊娠时间（周数）          0\n",
      "分娩方式              0\n",
      "CBTS              0\n",
      "EPDS              0\n",
      "HADS              0\n",
      "婴儿行为特征           20\n",
      "婴儿性别              0\n",
      "婴儿年龄（月）           0\n",
      "整晚睡眠时间（时：分：秒）    20\n",
      "睡醒次数             20\n",
      "入睡方式             20\n",
      "dtype: int64\n",
      "(14,)\n",
      "============================================\n",
      "数据重复数量 0\n"
     ]
    }
   ],
   "source": [
    "# 特征数量\n",
    "num_rows = df.shape[0]\n",
    "print(\"数据量\",num_rows)\n",
    "print(\"============================================\")\n",
    "# 数据量\n",
    "num_cols = df.shape[1]\n",
    "print(\"数据特征数量\",num_cols)\n",
    "print(\"============================================\")\n",
    "# 计算每一行的平均值\n",
    "row_means = df.mean(axis=1)\n",
    "print(\"每一行的平均值\")\n",
    "print(row_means)\n",
    "print(row_means.shape)\n",
    "print(\"============================================\")\n",
    "# 计算每一列的平均值\n",
    "column_means = df.mean()\n",
    "print(\"每一列的平均值\")\n",
    "print(column_means)\n",
    "print(column_means.shape)\n",
    "print(\"============================================\")\n",
    "# 统计每一行有多少缺失值(NA)\n",
    "row_na_counts = df.isna().sum(axis=1)\n",
    "print(\"每一行有多少缺失值\")\n",
    "print(row_na_counts)\n",
    "print(\"============================================\")\n",
    "# 统计每一列有多少缺失值(NA)\n",
    "column_na_counts = df.isna().sum()\n",
    "print(\"每一列有多少缺失值\")\n",
    "print(column_na_counts)\n",
    "print(column_na_counts.shape)\n",
    "print(\"============================================\")\n",
    "# 统计重复数据的数量\n",
    "duplicate_counts = df.duplicated().sum()\n",
    "print(\"数据重复数量\",duplicate_counts)"
   ]
  },
  {
   "cell_type": "markdown",
   "id": "7440e915",
   "metadata": {},
   "source": [
    "### 对特殊值进行数值化处理\n",
    "\n",
    "婴儿行为特征\n",
    "\n",
    "使用\n",
    "\n",
    "'中等型': 1, '安静型': 2, '矛盾型': 3\n",
    "\n",
    "的方式进行映射\n",
    "\n",
    "对整晚睡眠时间（时：分：秒）\n",
    "\n",
    "以h为单位转成整数进行表示\n"
   ]
  },
  {
   "cell_type": "code",
   "execution_count": 9,
   "id": "ef46dd80",
   "metadata": {},
   "outputs": [
    {
     "name": "stdout",
     "output_type": "stream",
     "text": [
      "中等型    225\n",
      "安静型    120\n",
      "矛盾型     45\n",
      "Name: 婴儿行为特征, dtype: int64\n",
      "{'Type': Index(['中等型', '安静型', '矛盾型'], dtype='object'), 'Count': array([225, 120,  45], dtype=int64)}\n"
     ]
    }
   ],
   "source": [
    "# 统计不同类型出现的次数和分别是什么\n",
    "type_counts = df['婴儿行为特征'].value_counts()\n",
    "type_dict = {'Type': type_counts.index, 'Count': type_counts.values}\n",
    "print(type_counts)\n",
    "print(type_dict)"
   ]
  },
  {
   "cell_type": "code",
   "execution_count": 10,
   "id": "fe2be247",
   "metadata": {},
   "outputs": [
    {
     "name": "stdout",
     "output_type": "stream",
     "text": [
      "0      1.0\n",
      "1      2.0\n",
      "2      2.0\n",
      "3      2.0\n",
      "4      1.0\n",
      "      ... \n",
      "405    NaN\n",
      "406    NaN\n",
      "407    NaN\n",
      "408    NaN\n",
      "409    NaN\n",
      "Name: 婴儿行为特征, Length: 410, dtype: float64\n"
     ]
    }
   ],
   "source": [
    "type_map = {'中等型': 1, '安静型': 2, '矛盾型': 3}\n",
    "df['婴儿行为特征'] = df['婴儿行为特征'].replace(type_map)\n",
    "print(df['婴儿行为特征'])"
   ]
  },
  {
   "cell_type": "markdown",
   "id": "6f8c6ae0",
   "metadata": {},
   "source": [
    "###  进行数据清洗并完成数据格式转换"
   ]
  },
  {
   "cell_type": "code",
   "execution_count": 11,
   "id": "df199308",
   "metadata": {},
   "outputs": [
    {
     "name": "stdout",
     "output_type": "stream",
     "text": [
      "0      10.0\n",
      "1      11.0\n",
      "2      12.0\n",
      "3      11.0\n",
      "4      10.5\n",
      "       ... \n",
      "405     NaN\n",
      "406     NaN\n",
      "407     NaN\n",
      "408     NaN\n",
      "409     NaN\n",
      "Name: 整晚睡眠时间（时：分：秒）, Length: 410, dtype: float64\n"
     ]
    }
   ],
   "source": [
    "df['整晚睡眠时间（时：分：秒）'] = df['整晚睡眠时间（时：分：秒）'].astype(str).str.strip()\n",
    "\n",
    "# 将时间字符串转换为时间数据类型\n",
    "df['整晚睡眠时间（时：分：秒）'] = pd.to_datetime(df['整晚睡眠时间（时：分：秒）'], format='%H:%M:%S', errors='coerce').dt.time\n",
    "\n",
    "# 将时间数据类型转换为以小时为单位的小数形式\n",
    "df['整晚睡眠时间（时：分：秒）'] = df['整晚睡眠时间（时：分：秒）'].apply(lambda x: x.hour + x.minute / 60 + x.second / 3600)\n",
    "\n",
    "# 输出转换后的结果\n",
    "print(df['整晚睡眠时间（时：分：秒）'])"
   ]
  },
  {
   "cell_type": "markdown",
   "id": "5bde452c",
   "metadata": {},
   "source": [
    "## 第一问\n",
    "**母亲的身体指标和心理指标对婴儿的行为特征和睡眠质\n",
    "量有影响**\n",
    "\n",
    "我们可以假设有影响，也可以假设没影响\n",
    "\n",
    "这里就按照题意假设**有影响**"
   ]
  },
  {
   "cell_type": "code",
   "execution_count": 13,
   "id": "f9ae73ca",
   "metadata": {},
   "outputs": [
    {
     "name": "stdout",
     "output_type": "stream",
     "text": [
      "     母亲年龄  婚姻状况  教育程度  妊娠时间（周数）  分娩方式  CBTS  EPDS  HADS  婴儿行为特征  婴儿性别  \\\n",
      "0      34     2     5      37.0     1     3    13     9     1.0     1   \n",
      "1      33     2     5      42.0     1     0     0     3     2.0     2   \n",
      "2      37     2     5      41.0     1     4     8     9     2.0     1   \n",
      "3      31     2     5      37.5     1     6    16    13     2.0     2   \n",
      "4      36     1     5      40.0     1     1     3     3     1.0     2   \n",
      "..    ...   ...   ...       ...   ...   ...   ...   ...     ...   ...   \n",
      "405    31     2     3      39.5     1     1     4     4     NaN     2   \n",
      "406    26     2     2      37.0     1     4     9    14     NaN     2   \n",
      "407    26     2     5      39.0     1     0     3     3     NaN     1   \n",
      "408    27     2     5      41.2     1     0     0     4     NaN     1   \n",
      "409    31     2     5      38.0     1     3     7     7     NaN     2   \n",
      "\n",
      "     婴儿年龄（月）  整晚睡眠时间（时：分：秒）  睡醒次数  入睡方式  \n",
      "0          1           10.0   3.0   2.0  \n",
      "1          3           11.0   0.0   4.0  \n",
      "2          1           12.0   1.0   2.0  \n",
      "3          3           11.0   2.0   1.0  \n",
      "4          3           10.5   1.0   4.0  \n",
      "..       ...            ...   ...   ...  \n",
      "405        2            NaN   NaN   NaN  \n",
      "406        2            NaN   NaN   NaN  \n",
      "407        1            NaN   NaN   NaN  \n",
      "408        1            NaN   NaN   NaN  \n",
      "409        2            NaN   NaN   NaN  \n",
      "\n",
      "[410 rows x 14 columns]\n",
      "(410, 14)\n"
     ]
    }
   ],
   "source": [
    "import numpy as np\n",
    "import pandas as pd\n",
    "\n",
    "df = pd.read_excel(\"../dataset/demo.xlsx\")\n",
    "df = df.iloc[:, :15]\n",
    "df = df.drop(df.columns[0], axis=1)\n",
    "type_map = {'中等型': 1, '安静型': 2, '矛盾型': 3}\n",
    "df['婴儿行为特征'] = df['婴儿行为特征'].replace(type_map)\n",
    "df['整晚睡眠时间（时：分：秒）'] = df['整晚睡眠时间（时：分：秒）'].astype(str).str.strip()\n",
    "df['整晚睡眠时间（时：分：秒）'] = pd.to_datetime(df['整晚睡眠时间（时：分：秒）'], format='%H:%M:%S', errors='coerce').dt.time\n",
    "df['整晚睡眠时间（时：分：秒）'] = df['整晚睡眠时间（时：分：秒）'].apply(lambda x: x.hour + x.minute / 60 + x.second / 3600)\n",
    "print(df)\n",
    "print(df.shape)"
   ]
  },
  {
   "cell_type": "markdown",
   "id": "3d27be45",
   "metadata": {},
   "source": [
    "### 指标一：相关系数\n"
   ]
  },
  {
   "cell_type": "code",
   "execution_count": 14,
   "id": "9f08df2f",
   "metadata": {},
   "outputs": [
    {
     "name": "stdout",
     "output_type": "stream",
     "text": [
      "               母亲年龄  婚姻状况  教育程度  妊娠时间（周数）  分娩方式  CBTS  EPDS  HADS  婴儿行为特征  \\\n",
      "母亲年龄           1.00  0.03  0.21     -0.07  0.04 -0.05 -0.12 -0.09    0.01   \n",
      "婚姻状况           0.03  1.00  0.11     -0.06 -0.00 -0.02 -0.05 -0.07    0.05   \n",
      "教育程度           0.21  0.11  1.00      0.03 -0.01 -0.10 -0.12 -0.12   -0.03   \n",
      "妊娠时间（周数）      -0.07 -0.06  0.03      1.00 -0.21 -0.13 -0.06 -0.10    0.01   \n",
      "分娩方式           0.04 -0.00 -0.01     -0.21  1.00 -0.03 -0.03 -0.06   -0.06   \n",
      "CBTS          -0.05 -0.02 -0.10     -0.13 -0.03  1.00  0.78  0.69   -0.02   \n",
      "EPDS          -0.12 -0.05 -0.12     -0.06 -0.03  0.78  1.00  0.79    0.02   \n",
      "HADS          -0.09 -0.07 -0.12     -0.10 -0.06  0.69  0.79  1.00   -0.00   \n",
      "婴儿行为特征         0.01  0.05 -0.03      0.01 -0.06 -0.02  0.02 -0.00    1.00   \n",
      "婴儿性别          -0.05 -0.05 -0.02      0.02 -0.11  0.11  0.06  0.04   -0.04   \n",
      "婴儿年龄（月）       -0.01  0.01  0.03      0.01 -0.05 -0.06 -0.04  0.01    0.07   \n",
      "整晚睡眠时间（时：分：秒）  0.05 -0.07 -0.01      0.05  0.02 -0.11 -0.21 -0.14   -0.02   \n",
      "睡醒次数           0.02 -0.03  0.08      0.09 -0.06  0.06  0.15  0.12    0.12   \n",
      "入睡方式          -0.10 -0.13 -0.05      0.03  0.06  0.04 -0.00  0.05   -0.08   \n",
      "\n",
      "               婴儿性别  婴儿年龄（月）  整晚睡眠时间（时：分：秒）  睡醒次数  入睡方式  \n",
      "母亲年龄          -0.05    -0.01           0.05  0.02 -0.10  \n",
      "婚姻状况          -0.05     0.01          -0.07 -0.03 -0.13  \n",
      "教育程度          -0.02     0.03          -0.01  0.08 -0.05  \n",
      "妊娠时间（周数）       0.02     0.01           0.05  0.09  0.03  \n",
      "分娩方式          -0.11    -0.05           0.02 -0.06  0.06  \n",
      "CBTS           0.11    -0.06          -0.11  0.06  0.04  \n",
      "EPDS           0.06    -0.04          -0.21  0.15 -0.00  \n",
      "HADS           0.04     0.01          -0.14  0.12  0.05  \n",
      "婴儿行为特征        -0.04     0.07          -0.02  0.12 -0.08  \n",
      "婴儿性别           1.00     0.00          -0.06  0.07 -0.02  \n",
      "婴儿年龄（月）        0.00     1.00           0.16  0.03  0.18  \n",
      "整晚睡眠时间（时：分：秒） -0.06     0.16           1.00 -0.28  0.26  \n",
      "睡醒次数           0.07     0.03          -0.28  1.00 -0.27  \n",
      "入睡方式          -0.02     0.18           0.26 -0.27  1.00  \n",
      "================================================================================\n",
      "[[ 1.    0.03  0.21 -0.07  0.04 -0.05 -0.12 -0.09  0.01 -0.05 -0.01  0.05\n",
      "   0.02 -0.1 ]\n",
      " [ 0.03  1.    0.11 -0.06 -0.   -0.02 -0.05 -0.07  0.05 -0.05  0.01 -0.07\n",
      "  -0.03 -0.13]\n",
      " [ 0.21  0.11  1.    0.03 -0.01 -0.1  -0.12 -0.12 -0.03 -0.02  0.03 -0.01\n",
      "   0.08 -0.05]\n",
      " [-0.07 -0.06  0.03  1.   -0.21 -0.13 -0.06 -0.1   0.01  0.02  0.01  0.05\n",
      "   0.09  0.03]\n",
      " [ 0.04 -0.   -0.01 -0.21  1.   -0.03 -0.03 -0.06 -0.06 -0.11 -0.05  0.02\n",
      "  -0.06  0.06]\n",
      " [-0.05 -0.02 -0.1  -0.13 -0.03  1.    0.78  0.69 -0.02  0.11 -0.06 -0.11\n",
      "   0.06  0.04]\n",
      " [-0.12 -0.05 -0.12 -0.06 -0.03  0.78  1.    0.79  0.02  0.06 -0.04 -0.21\n",
      "   0.15 -0.  ]\n",
      " [-0.09 -0.07 -0.12 -0.1  -0.06  0.69  0.79  1.   -0.    0.04  0.01 -0.14\n",
      "   0.12  0.05]\n",
      " [ 0.01  0.05 -0.03  0.01 -0.06 -0.02  0.02 -0.    1.   -0.04  0.07 -0.02\n",
      "   0.12 -0.08]\n",
      " [-0.05 -0.05 -0.02  0.02 -0.11  0.11  0.06  0.04 -0.04  1.    0.   -0.06\n",
      "   0.07 -0.02]\n",
      " [-0.01  0.01  0.03  0.01 -0.05 -0.06 -0.04  0.01  0.07  0.    1.    0.16\n",
      "   0.03  0.18]\n",
      " [ 0.05 -0.07 -0.01  0.05  0.02 -0.11 -0.21 -0.14 -0.02 -0.06  0.16  1.\n",
      "  -0.28  0.26]\n",
      " [ 0.02 -0.03  0.08  0.09 -0.06  0.06  0.15  0.12  0.12  0.07  0.03 -0.28\n",
      "   1.   -0.27]\n",
      " [-0.1  -0.13 -0.05  0.03  0.06  0.04 -0.    0.05 -0.08 -0.02  0.18  0.26\n",
      "  -0.27  1.  ]]\n",
      "(14, 14)\n"
     ]
    }
   ],
   "source": [
    "\n",
    "corr_matrix = df.corr()\n",
    "\n",
    "\n",
    "# 对相关系数矩阵进行四舍五入保留两位小数\n",
    "corr_matrix = np.round(corr_matrix, decimals=2)\n",
    "\n",
    "# 设置样式，输出\n",
    "\n",
    "print(corr_matrix)\n",
    "print(\"================================================================================\")\n",
    "print(corr_matrix.values)\n",
    "print(corr_matrix.shape)"
   ]
  },
  {
   "cell_type": "markdown",
   "id": "a4d163cb",
   "metadata": {},
   "source": [
    "### 指标二：聚类\n",
    "\n",
    "对母亲的身体特征和心里特征个进行聚类，得到三个簇\n",
    "对婴儿的睡眠质量方面的特征进行聚类得到三个簇"
   ]
  },
  {
   "cell_type": "markdown",
   "id": "5debf742",
   "metadata": {},
   "source": [
    "### 指标三：线性指标"
   ]
  },
  {
   "cell_type": "markdown",
   "id": "59631766",
   "metadata": {},
   "source": [
    "**婴儿的行为特征是一个单独的特征**\n",
    "\n",
    "**但是睡眠质量是有几个指标，所以我们要先建立婴儿睡眠质量评价标准**\n",
    "\n"
   ]
  },
  {
   "cell_type": "markdown",
   "id": "7af2caa5",
   "metadata": {},
   "source": [
    "### 指标四：假设检验"
   ]
  },
  {
   "cell_type": "markdown",
   "id": "94f48f81",
   "metadata": {},
   "source": [
    "### 分别进行分类\n",
    "\n",
    "**婴儿的行为特征和睡眠质量**\n",
    "\n",
    "**母亲的身体指标和心理指标**"
   ]
  },
  {
   "cell_type": "markdown",
   "id": "0d3008ac",
   "metadata": {},
   "source": [
    "## 第二问 \n",
    "可以先使用神经网络拟合出答案\n",
    "\n",
    "然后使用L1正则化进行降维（目前390数据量对8维特征进行学习不太合理）"
   ]
  },
  {
   "cell_type": "code",
   "execution_count": 5,
   "id": "ce0cd5d6",
   "metadata": {},
   "outputs": [
    {
     "name": "stdout",
     "output_type": "stream",
     "text": [
      "(410, 14)\n",
      "     母亲年龄  婚姻状况  教育程度  妊娠时间（周数）  分娩方式  CBTS  EPDS  HADS  婴儿行为特征  婴儿性别  \\\n",
      "0      34     2     5      37.0     1     3    13     9     1.0     1   \n",
      "1      33     2     5      42.0     1     0     0     3     2.0     2   \n",
      "2      37     2     5      41.0     1     4     8     9     2.0     1   \n",
      "3      31     2     5      37.5     1     6    16    13     2.0     2   \n",
      "4      36     1     5      40.0     1     1     3     3     1.0     2   \n",
      "..    ...   ...   ...       ...   ...   ...   ...   ...     ...   ...   \n",
      "385    27     2     5      42.0     1    12    20    14     1.0     1   \n",
      "386    31     2     3      39.0     1     4     7    12     1.0     1   \n",
      "387    31     2     5      41.6     1     0     3     1     2.0     1   \n",
      "388    27     2     3      40.0     1     1    10     5     2.0     1   \n",
      "389    32     2     5      37.0     1    10    10     6     1.0     1   \n",
      "\n",
      "     婴儿年龄（月）  整晚睡眠时间（时：分：秒）  睡醒次数  入睡方式  \n",
      "0          1           10.0   3.0   2.0  \n",
      "1          3           11.0   0.0   4.0  \n",
      "2          1           12.0   1.0   2.0  \n",
      "3          3           11.0   2.0   1.0  \n",
      "4          3           10.5   1.0   4.0  \n",
      "..       ...            ...   ...   ...  \n",
      "385        1            9.0   1.0   2.0  \n",
      "386        2           11.0   2.0   4.0  \n",
      "387        1           10.5   2.0   1.0  \n",
      "388        1            6.0   2.0   1.0  \n",
      "389        1            9.0   0.0   4.0  \n",
      "\n",
      "[390 rows x 14 columns]\n",
      "     母亲年龄  婚姻状况  教育程度  妊娠时间（周数）  分娩方式  CBTS  EPDS  HADS  婴儿行为特征  婴儿性别  \\\n",
      "390    29     2     4      40.0     1     7    15    12     NaN     1   \n",
      "391    29     2     3      42.0     1     9    14    12     NaN     2   \n",
      "392    23     2     2      38.5     1     7    12     7     NaN     1   \n",
      "393    27     2     3      36.3     1     8     4     5     NaN     2   \n",
      "394    36     2     4      39.0     1     6     6     8     NaN     2   \n",
      "395    30     2     5      41.2     1     5     8     5     NaN     1   \n",
      "396    28     2     2      40.6     1     8    11     9     NaN     2   \n",
      "397    32     2     5      37.0     1     3     6     7     NaN     2   \n",
      "398    28     2     5      38.0     1     7    11     5     NaN     1   \n",
      "399    31     2     4      42.0     1     4     5     8     NaN     1   \n",
      "400    25     2     2      40.5     1    16    22    15     NaN     2   \n",
      "401    27     2     5      40.4     1     4     6    10     NaN     1   \n",
      "402    33     2     5      39.0     1     6     6     4     NaN     2   \n",
      "403    25     2     3      39.0     1     0     4     5     NaN     1   \n",
      "404    28     2     2      41.0     1     9     6     5     NaN     1   \n",
      "405    31     2     3      39.5     1     1     4     4     NaN     2   \n",
      "406    26     2     2      37.0     1     4     9    14     NaN     2   \n",
      "407    26     2     5      39.0     1     0     3     3     NaN     1   \n",
      "408    27     2     5      41.2     1     0     0     4     NaN     1   \n",
      "409    31     2     5      38.0     1     3     7     7     NaN     2   \n",
      "\n",
      "     婴儿年龄（月）  整晚睡眠时间（时：分：秒）  睡醒次数  入睡方式  \n",
      "390        3            NaN   NaN   NaN  \n",
      "391        3            NaN   NaN   NaN  \n",
      "392        3            NaN   NaN   NaN  \n",
      "393        2            NaN   NaN   NaN  \n",
      "394        2            NaN   NaN   NaN  \n",
      "395        3            NaN   NaN   NaN  \n",
      "396        1            NaN   NaN   NaN  \n",
      "397        3            NaN   NaN   NaN  \n",
      "398        1            NaN   NaN   NaN  \n",
      "399        1            NaN   NaN   NaN  \n",
      "400        1            NaN   NaN   NaN  \n",
      "401        3            NaN   NaN   NaN  \n",
      "402        3            NaN   NaN   NaN  \n",
      "403        1            NaN   NaN   NaN  \n",
      "404        3            NaN   NaN   NaN  \n",
      "405        2            NaN   NaN   NaN  \n",
      "406        2            NaN   NaN   NaN  \n",
      "407        1            NaN   NaN   NaN  \n",
      "408        1            NaN   NaN   NaN  \n",
      "409        2            NaN   NaN   NaN  \n"
     ]
    }
   ],
   "source": [
    "import numpy as np\n",
    "import pandas as pd\n",
    "\n",
    "df = pd.read_excel(\"../dataset/demo.xlsx\")\n",
    "df = df.iloc[:, :15]\n",
    "\n",
    "df = df.drop(df.columns[0], axis=1)\n",
    "type_map = {'中等型': 1, '安静型': 2, '矛盾型': 3}\n",
    "df['婴儿行为特征'] = df['婴儿行为特征'].replace(type_map)\n",
    "df['整晚睡眠时间（时：分：秒）'] = df['整晚睡眠时间（时：分：秒）'].astype(str).str.strip()\n",
    "df['整晚睡眠时间（时：分：秒）'] = pd.to_datetime(df['整晚睡眠时间（时：分：秒）'], format='%H:%M:%S', errors='coerce').dt.time\n",
    "df['整晚睡眠时间（时：分：秒）'] = df['整晚睡眠时间（时：分：秒）'].apply(lambda x: x.hour + x.minute / 60 + x.second / 3600)\n",
    "print(df.shape)\n",
    "train_data = df.iloc[:-20]\n",
    "test_data  = df.iloc[-20:]\n",
    "print(train_data)\n",
    "print(test_data)"
   ]
  },
  {
   "cell_type": "code",
   "execution_count": null,
   "id": "a94a1078",
   "metadata": {},
   "outputs": [],
   "source": [
    "import torch.nn as nn\n",
    "import torch.optim\n",
    "\n",
    "\n",
    "class MyNet(nn.Module):\n",
    "    def __init__(self):\n",
    "        super(MyNet, self).__init__()\n",
    "        self.linear1 = nn.Linear(8, 4)\n",
    "        self.linear2 = nn.Linear(4, 2)\n",
    "        self.linear3 = nn.Linear(2, 1)\n",
    "        self.sigmoid = nn.Sigmoid()\n",
    "        self.activate = nn.ReLU()\n",
    "\n",
    "    def forward(self, X):\n",
    "        X = self.activate(self.linear1(X))\n",
    "        X = self.activate(self.linear2(X))\n",
    "        X = self.sigmoid(self.linear3(X))\n",
    "        return X\n",
    "\n",
    "\n",
    "model = MyNet()\n",
    "\n",
    "criterion = torch.nn.MSELoss(reduction='mean')\n",
    "optimizer = torch.optim.SGD(model.parameters(), lr=0.01)\n",
    "train_dataset = []\n",
    "test_dataset = []\n",
    "for epoch in range(100):\n",
    "    loss_record = []\n",
    "    for X, y in train_dataset:\n",
    "        pred = model(X)\n",
    "        loss = criterion(pred, y)\n",
    "        optimizer.zero_grad()\n",
    "        loss.backward()\n",
    "        optimizer.step()\n",
    "        loss_record.append(loss.item())\n",
    "    mean_train_loss = sum(loss_record) / len(loss_record)\n",
    "    print(f\"Epoch {epoch + 1:03d}: Train Loss: {mean_train_loss:.4f}\")\n",
    "pred_test = model(test_dataset)\n",
    "print(pred_test)"
   ]
  },
  {
   "cell_type": "markdown",
   "id": "12f93f4f",
   "metadata": {},
   "source": [
    "### 关键问题\n",
    "\n",
    "**建立母亲身体和心理到婴儿睡眠质量的模型**\n",
    "![image-20230804012529100](http://image.zzzsleep.icu/202308040125224.png)\n",
    "![image-20230804012825100](http://image.zzzsleep.icu/202308040128172.png)\n"
   ]
  }
 ],
 "metadata": {
  "celltoolbar": "无",
  "kernelspec": {
   "display_name": "Python 3 (ipykernel)",
   "language": "python",
   "name": "python3"
  },
  "language_info": {
   "codemirror_mode": {
    "name": "ipython",
    "version": 3
   },
   "file_extension": ".py",
   "mimetype": "text/x-python",
   "name": "python",
   "nbconvert_exporter": "python",
   "pygments_lexer": "ipython3",
   "version": "3.9.17"
  }
 },
 "nbformat": 4,
 "nbformat_minor": 5
}
