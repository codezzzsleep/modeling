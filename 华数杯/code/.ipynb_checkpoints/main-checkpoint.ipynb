{
 "cells": [
  {
   "cell_type": "markdown",
   "id": "3e0ceee7",
   "metadata": {},
   "source": [
    "## 导入数据文件"
   ]
  },
  {
   "cell_type": "code",
   "execution_count": 79,
   "id": "e3769c71",
   "metadata": {},
   "outputs": [
    {
     "name": "stdout",
     "output_type": "stream",
     "text": [
      "      编号  母亲年龄  婚姻状况  教育程度  妊娠时间（周数）  分娩方式  CBTS  EPDS  HADS 婴儿行为特征  ...  \\\n",
      "0      1    34     2     5      37.0     1     3    13     9    中等型  ...   \n",
      "1      2    33     2     5      42.0     1     0     0     3    安静型  ...   \n",
      "2      3    37     2     5      41.0     1     4     8     9    安静型  ...   \n",
      "3      4    31     2     5      37.5     1     6    16    13    安静型  ...   \n",
      "4      5    36     1     5      40.0     1     1     3     3    中等型  ...   \n",
      "..   ...   ...   ...   ...       ...   ...   ...   ...   ...    ...  ...   \n",
      "405  406    31     2     3      39.5     1     1     4     4    NaN  ...   \n",
      "406  407    26     2     2      37.0     1     4     9    14    NaN  ...   \n",
      "407  408    26     2     5      39.0     1     0     3     3    NaN  ...   \n",
      "408  409    27     2     5      41.2     1     0     0     4    NaN  ...   \n",
      "409  410    31     2     5      38.0     1     3     7     7    NaN  ...   \n",
      "\n",
      "     整晚睡眠时间（时：分：秒）  睡醒次数 入睡方式  Unnamed: 15  Unnamed: 16  Unnamed: 17  \\\n",
      "0         10:00:00   3.0  2.0          NaN          NaN          NaN   \n",
      "1         11:00:00   0.0  4.0          NaN   补充说明（数值含义）          NaN   \n",
      "2         12:00:00   1.0  2.0          NaN           数值         婚姻状况   \n",
      "3         11:00:00   2.0  1.0          NaN            1           未婚   \n",
      "4         10:30:00   1.0  4.0          NaN            2           已婚   \n",
      "..             ...   ...  ...          ...          ...          ...   \n",
      "405            NaN   NaN  NaN          NaN          NaN          NaN   \n",
      "406            NaN   NaN  NaN          NaN          NaN          NaN   \n",
      "407            NaN   NaN  NaN          NaN          NaN          NaN   \n",
      "408            NaN   NaN  NaN          NaN          NaN          NaN   \n",
      "409            NaN   NaN  NaN          NaN          NaN          NaN   \n",
      "\n",
      "    Unnamed: 18 Unnamed: 19 Unnamed: 20                           Unnamed: 21  \n",
      "0           NaN         NaN         NaN                                   NaN  \n",
      "1           NaN         NaN         NaN                                   NaN  \n",
      "2          教育程度        分娩方式        婴儿性别                                  入睡方式  \n",
      "3            小学        自然分娩          男性  哄睡法：通过轻声哄唤、摇晃、拍打等方式，使婴儿感到安全和舒适，进而入睡。  \n",
      "4            初中         剖宫产          女性         抚触法：通过轻柔的按摩、揉捏等方式，促进婴儿的放松和入睡。  \n",
      "..          ...         ...         ...                                   ...  \n",
      "405         NaN         NaN         NaN                                   NaN  \n",
      "406         NaN         NaN         NaN                                   NaN  \n",
      "407         NaN         NaN         NaN                                   NaN  \n",
      "408         NaN         NaN         NaN                                   NaN  \n",
      "409         NaN         NaN         NaN                                   NaN  \n",
      "\n",
      "[410 rows x 22 columns]\n",
      "(410, 22)\n"
     ]
    }
   ],
   "source": [
    "import pandas as pd\n",
    "\n",
    "df = pd.read_excel(\"../dataset/demo.xlsx\")\n",
    "\n",
    "print(df)\n",
    "print(df.shape)"
   ]
  },
  {
   "cell_type": "markdown",
   "id": "7187f048",
   "metadata": {},
   "source": [
    "**通过观察上面的数据发现，补充说明和特殊说明是数据无关项**\\n\n",
    "> **并且显然数据编号是数据无关项**"
   ]
  },
  {
   "cell_type": "code",
   "execution_count": 80,
   "id": "50435dcb",
   "metadata": {},
   "outputs": [
    {
     "name": "stdout",
     "output_type": "stream",
     "text": [
      "(410, 22)\n",
      "     母亲年龄  婚姻状况  教育程度  妊娠时间（周数）  分娩方式  CBTS  EPDS  HADS 婴儿行为特征  婴儿性别  婴儿年龄（月）  \\\n",
      "0      34     2     5      37.0     1     3    13     9    中等型     1        1   \n",
      "1      33     2     5      42.0     1     0     0     3    安静型     2        3   \n",
      "2      37     2     5      41.0     1     4     8     9    安静型     1        1   \n",
      "3      31     2     5      37.5     1     6    16    13    安静型     2        3   \n",
      "4      36     1     5      40.0     1     1     3     3    中等型     2        3   \n",
      "..    ...   ...   ...       ...   ...   ...   ...   ...    ...   ...      ...   \n",
      "405    31     2     3      39.5     1     1     4     4    NaN     2        2   \n",
      "406    26     2     2      37.0     1     4     9    14    NaN     2        2   \n",
      "407    26     2     5      39.0     1     0     3     3    NaN     1        1   \n",
      "408    27     2     5      41.2     1     0     0     4    NaN     1        1   \n",
      "409    31     2     5      38.0     1     3     7     7    NaN     2        2   \n",
      "\n",
      "    整晚睡眠时间（时：分：秒）  睡醒次数  入睡方式  \n",
      "0        10:00:00   3.0   2.0  \n",
      "1        11:00:00   0.0   4.0  \n",
      "2        12:00:00   1.0   2.0  \n",
      "3        11:00:00   2.0   1.0  \n",
      "4        10:30:00   1.0   4.0  \n",
      "..            ...   ...   ...  \n",
      "405           NaN   NaN   NaN  \n",
      "406           NaN   NaN   NaN  \n",
      "407           NaN   NaN   NaN  \n",
      "408           NaN   NaN   NaN  \n",
      "409           NaN   NaN   NaN  \n",
      "\n",
      "[410 rows x 14 columns]\n",
      "(410, 14)\n"
     ]
    }
   ],
   "source": [
    "print(df.shape)\n",
    "df = df.iloc[:, :15]\n",
    "df = df.drop(df.columns[0], axis=1)\n",
    "print(df)\n",
    "print(df.shape)"
   ]
  },
  {
   "cell_type": "code",
   "execution_count": 81,
   "id": "5eb5f9dd",
   "metadata": {},
   "outputs": [
    {
     "name": "stdout",
     "output_type": "stream",
     "text": [
      "数据量 410\n",
      "============================================\n",
      "数据特征数量 14\n",
      "============================================\n",
      "每一行的平均值\n",
      "0      9.250000\n",
      "1      7.916667\n",
      "2      9.333333\n",
      "3      9.958333\n",
      "4      8.333333\n",
      "         ...   \n",
      "405    8.950000\n",
      "406    9.900000\n",
      "407    8.100000\n",
      "408    8.220000\n",
      "409    9.800000\n",
      "Length: 410, dtype: float64\n",
      "(410,)\n",
      "============================================\n",
      "每一列的平均值\n",
      "母亲年龄        30.197561\n",
      "婚姻状况         2.002439\n",
      "教育程度         4.080488\n",
      "妊娠时间（周数）    39.114146\n",
      "分娩方式         1.012195\n",
      "CBTS         5.943902\n",
      "EPDS         9.048780\n",
      "HADS         7.839024\n",
      "婴儿性别         1.482927\n",
      "婴儿年龄（月）      1.958537\n",
      "睡醒次数         1.461538\n",
      "入睡方式         3.025641\n",
      "dtype: float64\n",
      "(12,)\n",
      "============================================\n",
      "每一行有多少缺失值\n",
      "0      0\n",
      "1      0\n",
      "2      0\n",
      "3      0\n",
      "4      0\n",
      "      ..\n",
      "405    4\n",
      "406    4\n",
      "407    4\n",
      "408    4\n",
      "409    4\n",
      "Length: 410, dtype: int64\n",
      "============================================\n",
      "每一列有多少缺失值\n",
      "母亲年龄              0\n",
      "婚姻状况              0\n",
      "教育程度              0\n",
      "妊娠时间（周数）          0\n",
      "分娩方式              0\n",
      "CBTS              0\n",
      "EPDS              0\n",
      "HADS              0\n",
      "婴儿行为特征           20\n",
      "婴儿性别              0\n",
      "婴儿年龄（月）           0\n",
      "整晚睡眠时间（时：分：秒）    20\n",
      "睡醒次数             20\n",
      "入睡方式             20\n",
      "dtype: int64\n",
      "(14,)\n",
      "============================================\n",
      "数据重复数量 0\n"
     ]
    }
   ],
   "source": [
    "# 特征数量\n",
    "num_rows = df.shape[0]\n",
    "print(\"数据量\",num_rows)\n",
    "print(\"============================================\")\n",
    "# 数据量\n",
    "num_cols = df.shape[1]\n",
    "print(\"数据特征数量\",num_cols)\n",
    "print(\"============================================\")\n",
    "# 计算每一行的平均值\n",
    "row_means = df.mean(axis=1)\n",
    "print(\"每一行的平均值\")\n",
    "print(row_means)\n",
    "print(row_means.shape)\n",
    "print(\"============================================\")\n",
    "# 计算每一列的平均值\n",
    "column_means = df.mean()\n",
    "print(\"每一列的平均值\")\n",
    "print(column_means)\n",
    "print(column_means.shape)\n",
    "print(\"============================================\")\n",
    "# 统计每一行有多少缺失值(NA)\n",
    "row_na_counts = df.isna().sum(axis=1)\n",
    "print(\"每一行有多少缺失值\")\n",
    "print(row_na_counts)\n",
    "print(\"============================================\")\n",
    "# 统计每一列有多少缺失值(NA)\n",
    "column_na_counts = df.isna().sum()\n",
    "print(\"每一列有多少缺失值\")\n",
    "print(column_na_counts)\n",
    "print(column_na_counts.shape)\n",
    "print(\"============================================\")\n",
    "# 统计重复数据的数量\n",
    "duplicate_counts = df.duplicated().sum()\n",
    "print(\"数据重复数量\",duplicate_counts)"
   ]
  },
  {
   "cell_type": "markdown",
   "id": "6ca8bbdf",
   "metadata": {},
   "source": [
    "## 分析上面数据的结果\n",
    "有部分数据不完整，但是占比不高\n",
    "\n",
    "**可以使用平均值或者中值填充**\n",
    "\n",
    "平均值只有十二个特征\n",
    "\n",
    "婴儿行为特征与整晚睡眠时间（时：分：秒）在当前数据格式下并不能进行格式化\n",
    "\n",
    "所以对数据进行以下处理"
   ]
  },
  {
   "cell_type": "markdown",
   "id": "7440e915",
   "metadata": {},
   "source": [
    "### 对特殊值进行数值化处理\n",
    "\n",
    "婴儿行为特征\n",
    "\n",
    "使用\n",
    "\n",
    "'中等型': 1, '安静型': 2, '矛盾型': 3\n",
    "\n",
    "的方式进行映射\n",
    "\n",
    "对整晚睡眠时间（时：分：秒）\n",
    "\n",
    "以h为单位转成整数进行表示\n",
    "\n",
    "#### 对缺失数据进行填充\n",
    "\n",
    "可用选择\n",
    "\n",
    "1. 中间值填充\n",
    "2. 平均值填充\n",
    "3. 使用EM算法进行计算\n",
    "4. 进行插值\n",
    "\n",
    "这里考虑数据量较小，使用平均值进行填充"
   ]
  },
  {
   "cell_type": "code",
   "execution_count": 83,
   "id": "ef46dd80",
   "metadata": {},
   "outputs": [
    {
     "name": "stdout",
     "output_type": "stream",
     "text": [
      "中等型    225\n",
      "安静型    120\n",
      "矛盾型     45\n",
      "Name: 婴儿行为特征, dtype: int64\n",
      "{'Type': Index(['中等型', '安静型', '矛盾型'], dtype='object'), 'Count': array([225, 120,  45], dtype=int64)}\n"
     ]
    }
   ],
   "source": [
    "# 统计不同类型出现的次数和分别是什么\n",
    "type_counts = df['婴儿行为特征'].value_counts()\n",
    "type_dict = {'Type': type_counts.index, 'Count': type_counts.values}\n",
    "print(type_counts)\n",
    "print(type_dict)"
   ]
  },
  {
   "cell_type": "code",
   "execution_count": 84,
   "id": "fe2be247",
   "metadata": {},
   "outputs": [
    {
     "name": "stdout",
     "output_type": "stream",
     "text": [
      "0      1.0\n",
      "1      2.0\n",
      "2      2.0\n",
      "3      2.0\n",
      "4      1.0\n",
      "      ... \n",
      "405    NaN\n",
      "406    NaN\n",
      "407    NaN\n",
      "408    NaN\n",
      "409    NaN\n",
      "Name: 婴儿行为特征, Length: 410, dtype: float64\n"
     ]
    }
   ],
   "source": [
    "type_map = {'中等型': 1, '安静型': 2, '矛盾型': 3}\n",
    "df['婴儿行为特征'] = df['婴儿行为特征'].replace(type_map)\n",
    "print(df['婴儿行为特征'])"
   ]
  },
  {
   "cell_type": "code",
   "execution_count": 85,
   "id": "edc3d6d0",
   "metadata": {},
   "outputs": [
    {
     "ename": "ValueError",
     "evalue": "Invalid type for timedelta scalar: <class 'datetime.time'>",
     "output_type": "error",
     "traceback": [
      "\u001b[1;31m---------------------------------------------------------------------------\u001b[0m",
      "\u001b[1;31mTypeError\u001b[0m                                 Traceback (most recent call last)",
      "File \u001b[1;32mpandas\\_libs\\tslibs\\timedeltas.pyx:264\u001b[0m, in \u001b[0;36mpandas._libs.tslibs.timedeltas.array_to_timedelta64\u001b[1;34m()\u001b[0m\n",
      "\u001b[1;31mTypeError\u001b[0m: Expected unicode, got datetime.time",
      "\nDuring handling of the above exception, another exception occurred:\n",
      "\u001b[1;31mValueError\u001b[0m                                Traceback (most recent call last)",
      "Cell \u001b[1;32mIn[85], line 2\u001b[0m\n\u001b[0;32m      1\u001b[0m \u001b[38;5;66;03m# 将包含时间的列转换为时间数据类型\u001b[39;00m\n\u001b[1;32m----> 2\u001b[0m df[\u001b[38;5;124m'\u001b[39m\u001b[38;5;124m整晚睡眠时间（时：分：秒）\u001b[39m\u001b[38;5;124m'\u001b[39m] \u001b[38;5;241m=\u001b[39m \u001b[43mpd\u001b[49m\u001b[38;5;241;43m.\u001b[39;49m\u001b[43mto_timedelta\u001b[49m\u001b[43m(\u001b[49m\u001b[43mdf\u001b[49m\u001b[43m[\u001b[49m\u001b[38;5;124;43m'\u001b[39;49m\u001b[38;5;124;43m整晚睡眠时间（时：分：秒）\u001b[39;49m\u001b[38;5;124;43m'\u001b[39;49m\u001b[43m]\u001b[49m\u001b[43m)\u001b[49m\n\u001b[0;32m      4\u001b[0m \u001b[38;5;66;03m# 将时间数据类型转换为以小时为单位的小数形式\u001b[39;00m\n\u001b[0;32m      5\u001b[0m df[\u001b[38;5;124m'\u001b[39m\u001b[38;5;124m整晚睡眠时间（时：分：秒）\u001b[39m\u001b[38;5;124m'\u001b[39m] \u001b[38;5;241m=\u001b[39m df[\u001b[38;5;124m'\u001b[39m\u001b[38;5;124m整晚睡眠时间（时：分：秒）\u001b[39m\u001b[38;5;124m'\u001b[39m]\u001b[38;5;241m.\u001b[39mapply(\u001b[38;5;28;01mlambda\u001b[39;00m x: x\u001b[38;5;241m.\u001b[39mtotal_seconds() \u001b[38;5;241m/\u001b[39m \u001b[38;5;241m3600\u001b[39m)\n",
      "File \u001b[1;32mD:\\paths\\conda_envs\\d2l\\lib\\site-packages\\pandas\\core\\tools\\timedeltas.py:114\u001b[0m, in \u001b[0;36mto_timedelta\u001b[1;34m(arg, unit, errors)\u001b[0m\n\u001b[0;32m    112\u001b[0m     \u001b[38;5;28;01mreturn\u001b[39;00m arg\n\u001b[0;32m    113\u001b[0m \u001b[38;5;28;01melif\u001b[39;00m \u001b[38;5;28misinstance\u001b[39m(arg, ABCSeries):\n\u001b[1;32m--> 114\u001b[0m     values \u001b[38;5;241m=\u001b[39m \u001b[43m_convert_listlike\u001b[49m\u001b[43m(\u001b[49m\u001b[43marg\u001b[49m\u001b[38;5;241;43m.\u001b[39;49m\u001b[43m_values\u001b[49m\u001b[43m,\u001b[49m\u001b[43m \u001b[49m\u001b[43munit\u001b[49m\u001b[38;5;241;43m=\u001b[39;49m\u001b[43munit\u001b[49m\u001b[43m,\u001b[49m\u001b[43m \u001b[49m\u001b[43merrors\u001b[49m\u001b[38;5;241;43m=\u001b[39;49m\u001b[43merrors\u001b[49m\u001b[43m)\u001b[49m\n\u001b[0;32m    115\u001b[0m     \u001b[38;5;28;01mreturn\u001b[39;00m arg\u001b[38;5;241m.\u001b[39m_constructor(values, index\u001b[38;5;241m=\u001b[39marg\u001b[38;5;241m.\u001b[39mindex, name\u001b[38;5;241m=\u001b[39marg\u001b[38;5;241m.\u001b[39mname)\n\u001b[0;32m    116\u001b[0m \u001b[38;5;28;01melif\u001b[39;00m \u001b[38;5;28misinstance\u001b[39m(arg, ABCIndexClass):\n",
      "File \u001b[1;32mD:\\paths\\conda_envs\\d2l\\lib\\site-packages\\pandas\\core\\tools\\timedeltas.py:161\u001b[0m, in \u001b[0;36m_convert_listlike\u001b[1;34m(arg, unit, errors, name)\u001b[0m\n\u001b[0;32m    158\u001b[0m     arg \u001b[38;5;241m=\u001b[39m np\u001b[38;5;241m.\u001b[39marray(\u001b[38;5;28mlist\u001b[39m(arg), dtype\u001b[38;5;241m=\u001b[39m\u001b[38;5;28mobject\u001b[39m)\n\u001b[0;32m    160\u001b[0m \u001b[38;5;28;01mtry\u001b[39;00m:\n\u001b[1;32m--> 161\u001b[0m     value \u001b[38;5;241m=\u001b[39m \u001b[43msequence_to_td64ns\u001b[49m\u001b[43m(\u001b[49m\u001b[43marg\u001b[49m\u001b[43m,\u001b[49m\u001b[43m \u001b[49m\u001b[43munit\u001b[49m\u001b[38;5;241;43m=\u001b[39;49m\u001b[43munit\u001b[49m\u001b[43m,\u001b[49m\u001b[43m \u001b[49m\u001b[43merrors\u001b[49m\u001b[38;5;241;43m=\u001b[39;49m\u001b[43merrors\u001b[49m\u001b[43m,\u001b[49m\u001b[43m \u001b[49m\u001b[43mcopy\u001b[49m\u001b[38;5;241;43m=\u001b[39;49m\u001b[38;5;28;43;01mFalse\u001b[39;49;00m\u001b[43m)\u001b[49m[\u001b[38;5;241m0\u001b[39m]\n\u001b[0;32m    162\u001b[0m \u001b[38;5;28;01mexcept\u001b[39;00m \u001b[38;5;167;01mValueError\u001b[39;00m:\n\u001b[0;32m    163\u001b[0m     \u001b[38;5;28;01mif\u001b[39;00m errors \u001b[38;5;241m==\u001b[39m \u001b[38;5;124m\"\u001b[39m\u001b[38;5;124mignore\u001b[39m\u001b[38;5;124m\"\u001b[39m:\n",
      "File \u001b[1;32mD:\\paths\\conda_envs\\d2l\\lib\\site-packages\\pandas\\core\\arrays\\timedeltas.py:957\u001b[0m, in \u001b[0;36msequence_to_td64ns\u001b[1;34m(data, copy, unit, errors)\u001b[0m\n\u001b[0;32m    954\u001b[0m \u001b[38;5;66;03m# Convert whatever we have into timedelta64[ns] dtype\u001b[39;00m\n\u001b[0;32m    955\u001b[0m \u001b[38;5;28;01mif\u001b[39;00m is_object_dtype(data\u001b[38;5;241m.\u001b[39mdtype) \u001b[38;5;129;01mor\u001b[39;00m is_string_dtype(data\u001b[38;5;241m.\u001b[39mdtype):\n\u001b[0;32m    956\u001b[0m     \u001b[38;5;66;03m# no need to make a copy, need to convert if string-dtyped\u001b[39;00m\n\u001b[1;32m--> 957\u001b[0m     data \u001b[38;5;241m=\u001b[39m \u001b[43mobjects_to_td64ns\u001b[49m\u001b[43m(\u001b[49m\u001b[43mdata\u001b[49m\u001b[43m,\u001b[49m\u001b[43m \u001b[49m\u001b[43munit\u001b[49m\u001b[38;5;241;43m=\u001b[39;49m\u001b[43munit\u001b[49m\u001b[43m,\u001b[49m\u001b[43m \u001b[49m\u001b[43merrors\u001b[49m\u001b[38;5;241;43m=\u001b[39;49m\u001b[43merrors\u001b[49m\u001b[43m)\u001b[49m\n\u001b[0;32m    958\u001b[0m     copy \u001b[38;5;241m=\u001b[39m \u001b[38;5;28;01mFalse\u001b[39;00m\n\u001b[0;32m    960\u001b[0m \u001b[38;5;28;01melif\u001b[39;00m is_integer_dtype(data\u001b[38;5;241m.\u001b[39mdtype):\n\u001b[0;32m    961\u001b[0m     \u001b[38;5;66;03m# treat as multiples of the given unit\u001b[39;00m\n",
      "File \u001b[1;32mD:\\paths\\conda_envs\\d2l\\lib\\site-packages\\pandas\\core\\arrays\\timedeltas.py:1067\u001b[0m, in \u001b[0;36mobjects_to_td64ns\u001b[1;34m(data, unit, errors)\u001b[0m\n\u001b[0;32m   1064\u001b[0m \u001b[38;5;66;03m# coerce Index to np.ndarray, converting string-dtype if necessary\u001b[39;00m\n\u001b[0;32m   1065\u001b[0m values \u001b[38;5;241m=\u001b[39m np\u001b[38;5;241m.\u001b[39marray(data, dtype\u001b[38;5;241m=\u001b[39mnp\u001b[38;5;241m.\u001b[39mobject_, copy\u001b[38;5;241m=\u001b[39m\u001b[38;5;28;01mFalse\u001b[39;00m)\n\u001b[1;32m-> 1067\u001b[0m result \u001b[38;5;241m=\u001b[39m \u001b[43marray_to_timedelta64\u001b[49m\u001b[43m(\u001b[49m\u001b[43mvalues\u001b[49m\u001b[43m,\u001b[49m\u001b[43m \u001b[49m\u001b[43munit\u001b[49m\u001b[38;5;241;43m=\u001b[39;49m\u001b[43munit\u001b[49m\u001b[43m,\u001b[49m\u001b[43m \u001b[49m\u001b[43merrors\u001b[49m\u001b[38;5;241;43m=\u001b[39;49m\u001b[43merrors\u001b[49m\u001b[43m)\u001b[49m\n\u001b[0;32m   1068\u001b[0m \u001b[38;5;28;01mreturn\u001b[39;00m result\u001b[38;5;241m.\u001b[39mview(\u001b[38;5;124m\"\u001b[39m\u001b[38;5;124mtimedelta64[ns]\u001b[39m\u001b[38;5;124m\"\u001b[39m)\n",
      "File \u001b[1;32mpandas\\_libs\\tslibs\\timedeltas.pyx:274\u001b[0m, in \u001b[0;36mpandas._libs.tslibs.timedeltas.array_to_timedelta64\u001b[1;34m()\u001b[0m\n",
      "File \u001b[1;32mpandas\\_libs\\tslibs\\timedeltas.pyx:269\u001b[0m, in \u001b[0;36mpandas._libs.tslibs.timedeltas.array_to_timedelta64\u001b[1;34m()\u001b[0m\n",
      "File \u001b[1;32mpandas\\_libs\\tslibs\\timedeltas.pyx:224\u001b[0m, in \u001b[0;36mpandas._libs.tslibs.timedeltas.convert_to_timedelta64\u001b[1;34m()\u001b[0m\n",
      "\u001b[1;31mValueError\u001b[0m: Invalid type for timedelta scalar: <class 'datetime.time'>"
     ]
    }
   ],
   "source": [
    "# 将包含时间的列转换为时间数据类型\n",
    "df['整晚睡眠时间（时：分：秒）'] = pd.to_timedelta(df['整晚睡眠时间（时：分：秒）'])\n",
    "\n",
    "# 将时间数据类型转换为以小时为单位的小数形式\n",
    "df['整晚睡眠时间（时：分：秒）'] = df['整晚睡眠时间（时：分：秒）'].apply(lambda x: x.total_seconds() / 3600)\n",
    "\n",
    "\n",
    "print(df['整晚睡眠时间（时：分：秒）'])"
   ]
  },
  {
   "cell_type": "markdown",
   "id": "6f8c6ae0",
   "metadata": {},
   "source": [
    "###  进行数据清洗并完成数据格式转换"
   ]
  },
  {
   "cell_type": "code",
   "execution_count": 86,
   "id": "df199308",
   "metadata": {},
   "outputs": [
    {
     "name": "stdout",
     "output_type": "stream",
     "text": [
      "0      10.0\n",
      "1      11.0\n",
      "2      12.0\n",
      "3      11.0\n",
      "4      10.5\n",
      "       ... \n",
      "405     NaN\n",
      "406     NaN\n",
      "407     NaN\n",
      "408     NaN\n",
      "409     NaN\n",
      "Name: 整晚睡眠时间（时：分：秒）, Length: 410, dtype: float64\n"
     ]
    }
   ],
   "source": [
    "df['整晚睡眠时间（时：分：秒）'] = df['整晚睡眠时间（时：分：秒）'].astype(str).str.strip()\n",
    "\n",
    "# 将时间字符串转换为时间数据类型\n",
    "df['整晚睡眠时间（时：分：秒）'] = pd.to_datetime(df['整晚睡眠时间（时：分：秒）'], format='%H:%M:%S', errors='coerce').dt.time\n",
    "\n",
    "# 将时间数据类型转换为以小时为单位的小数形式\n",
    "df['整晚睡眠时间（时：分：秒）'] = df['整晚睡眠时间（时：分：秒）'].apply(lambda x: x.hour + x.minute / 60 + x.second / 3600)\n",
    "\n",
    "# 输出转换后的结果\n",
    "print(df['整晚睡眠时间（时：分：秒）'])"
   ]
  },
  {
   "cell_type": "markdown",
   "id": "b956a19e",
   "metadata": {},
   "source": [
    "### 对缺失值进行平均值填充"
   ]
  },
  {
   "cell_type": "code",
   "execution_count": 90,
   "id": "d3f20991",
   "metadata": {},
   "outputs": [
    {
     "name": "stdout",
     "output_type": "stream",
     "text": [
      "     母亲年龄  婚姻状况  教育程度  妊娠时间（周数）  分娩方式  CBTS  EPDS  HADS    婴儿行为特征  婴儿性别  \\\n",
      "0      34     2     5      37.0     1     3    13     9  1.000000     1   \n",
      "1      33     2     5      42.0     1     0     0     3  2.000000     2   \n",
      "2      37     2     5      41.0     1     4     8     9  2.000000     1   \n",
      "3      31     2     5      37.5     1     6    16    13  2.000000     2   \n",
      "4      36     1     5      40.0     1     1     3     3  1.000000     2   \n",
      "..    ...   ...   ...       ...   ...   ...   ...   ...       ...   ...   \n",
      "405    31     2     3      39.5     1     1     4     4  1.538462     2   \n",
      "406    26     2     2      37.0     1     4     9    14  1.538462     2   \n",
      "407    26     2     5      39.0     1     0     3     3  1.538462     1   \n",
      "408    27     2     5      41.2     1     0     0     4  1.538462     1   \n",
      "409    31     2     5      38.0     1     3     7     7  1.538462     2   \n",
      "\n",
      "     婴儿年龄（月）  整晚睡眠时间（时：分：秒）      睡醒次数      入睡方式  \n",
      "0          1      10.000000  3.000000  2.000000  \n",
      "1          3      11.000000  0.000000  4.000000  \n",
      "2          1      12.000000  1.000000  2.000000  \n",
      "3          3      11.000000  2.000000  1.000000  \n",
      "4          3      10.500000  1.000000  4.000000  \n",
      "..       ...            ...       ...       ...  \n",
      "405        2      10.157455  1.461538  3.025641  \n",
      "406        2      10.157455  1.461538  3.025641  \n",
      "407        1      10.157455  1.461538  3.025641  \n",
      "408        1      10.157455  1.461538  3.025641  \n",
      "409        2      10.157455  1.461538  3.025641  \n",
      "\n",
      "[410 rows x 14 columns]\n"
     ]
    }
   ],
   "source": [
    "# 计算每列的平均值\n",
    "mean_values = df.mean()\n",
    "\n",
    "# 将缺失值替换为平均值\n",
    "df = df.fillna(mean_values)\n",
    "\n",
    "print(df)"
   ]
  },
  {
   "cell_type": "markdown",
   "id": "eca14888",
   "metadata": {},
   "source": [
    "### 重新对数据进行统计"
   ]
  },
  {
   "cell_type": "code",
   "execution_count": 91,
   "id": "7adc6ff9",
   "metadata": {},
   "outputs": [
    {
     "name": "stdout",
     "output_type": "stream",
     "text": [
      "数据量 410\n",
      "============================================\n",
      "数据特征数量 14\n",
      "============================================\n",
      "每一行的平均值\n",
      "0      8.714286\n",
      "1      7.714286\n",
      "2      9.000000\n",
      "3      9.464286\n",
      "4      7.964286\n",
      "         ...   \n",
      "405    7.548793\n",
      "406    8.227364\n",
      "407    6.941650\n",
      "408    7.027364\n",
      "409    8.155935\n",
      "Length: 410, dtype: float64\n",
      "(410,)\n",
      "============================================\n",
      "每一列的平均值\n",
      "母亲年龄             30.197561\n",
      "婚姻状况              2.002439\n",
      "教育程度              4.080488\n",
      "妊娠时间（周数）         39.114146\n",
      "分娩方式              1.012195\n",
      "CBTS              5.943902\n",
      "EPDS              9.048780\n",
      "HADS              7.839024\n",
      "婴儿行为特征            1.538462\n",
      "婴儿性别              1.482927\n",
      "婴儿年龄（月）           1.958537\n",
      "整晚睡眠时间（时：分：秒）    10.157455\n",
      "睡醒次数              1.461538\n",
      "入睡方式              3.025641\n",
      "dtype: float64\n",
      "(14,)\n",
      "============================================\n",
      "每一行有多少缺失值\n",
      "0      0\n",
      "1      0\n",
      "2      0\n",
      "3      0\n",
      "4      0\n",
      "      ..\n",
      "405    0\n",
      "406    0\n",
      "407    0\n",
      "408    0\n",
      "409    0\n",
      "Length: 410, dtype: int64\n",
      "============================================\n",
      "每一列有多少缺失值\n",
      "母亲年龄             0\n",
      "婚姻状况             0\n",
      "教育程度             0\n",
      "妊娠时间（周数）         0\n",
      "分娩方式             0\n",
      "CBTS             0\n",
      "EPDS             0\n",
      "HADS             0\n",
      "婴儿行为特征           0\n",
      "婴儿性别             0\n",
      "婴儿年龄（月）          0\n",
      "整晚睡眠时间（时：分：秒）    0\n",
      "睡醒次数             0\n",
      "入睡方式             0\n",
      "dtype: int64\n",
      "(14,)\n",
      "============================================\n",
      "数据重复数量 0\n"
     ]
    }
   ],
   "source": [
    "# 特征数量\n",
    "num_rows = df.shape[0]\n",
    "print(\"数据量\",num_rows)\n",
    "print(\"============================================\")\n",
    "# 数据量\n",
    "num_cols = df.shape[1]\n",
    "print(\"数据特征数量\",num_cols)\n",
    "print(\"============================================\")\n",
    "# 计算每一行的平均值\n",
    "row_means = df.mean(axis=1)\n",
    "print(\"每一行的平均值\")\n",
    "print(row_means)\n",
    "print(row_means.shape)\n",
    "print(\"============================================\")\n",
    "# 计算每一列的平均值\n",
    "column_means = df.mean()\n",
    "print(\"每一列的平均值\")\n",
    "print(column_means)\n",
    "print(column_means.shape)\n",
    "print(\"============================================\")\n",
    "# 统计每一行有多少缺失值(NA)\n",
    "row_na_counts = df.isna().sum(axis=1)\n",
    "print(\"每一行有多少缺失值\")\n",
    "print(row_na_counts)\n",
    "print(\"============================================\")\n",
    "# 统计每一列有多少缺失值(NA)\n",
    "column_na_counts = df.isna().sum()\n",
    "print(\"每一列有多少缺失值\")\n",
    "print(column_na_counts)\n",
    "print(column_na_counts.shape)\n",
    "print(\"============================================\")\n",
    "# 统计重复数据的数量\n",
    "duplicate_counts = df.duplicated().sum()\n",
    "print(\"数据重复数量\",duplicate_counts)"
   ]
  },
  {
   "cell_type": "markdown",
   "id": "5bde452c",
   "metadata": {},
   "source": [
    "## 第一问\n",
    "**母亲的身体指标和心理指标对婴儿的行为特征和睡眠质\n",
    "量有影响**\n",
    "\n",
    "我们可以假设有影响，也可以假设没影响\n",
    "\n",
    "这里就按照题意假设**有影响**"
   ]
  },
  {
   "cell_type": "markdown",
   "id": "3d27be45",
   "metadata": {},
   "source": [
    "### 衡量指标一——相关系数\n"
   ]
  },
  {
   "cell_type": "code",
   "execution_count": 105,
   "id": "9f08df2f",
   "metadata": {},
   "outputs": [
    {
     "name": "stdout",
     "output_type": "stream",
     "text": [
      "               母亲年龄  婚姻状况  教育程度  妊娠时间（周数）  分娩方式  CBTS  EPDS  HADS  婴儿行为特征  \\\n",
      "母亲年龄           1.00  0.03  0.21     -0.07  0.04 -0.05 -0.12 -0.09    0.01   \n",
      "婚姻状况           0.03  1.00  0.11     -0.06 -0.00 -0.02 -0.05 -0.07    0.05   \n",
      "教育程度           0.21  0.11  1.00      0.03 -0.01 -0.10 -0.12 -0.12   -0.03   \n",
      "妊娠时间（周数）      -0.07 -0.06  0.03      1.00 -0.21 -0.13 -0.06 -0.10    0.01   \n",
      "分娩方式           0.04 -0.00 -0.01     -0.21  1.00 -0.03 -0.03 -0.06   -0.06   \n",
      "CBTS          -0.05 -0.02 -0.10     -0.13 -0.03  1.00  0.78  0.69   -0.02   \n",
      "EPDS          -0.12 -0.05 -0.12     -0.06 -0.03  0.78  1.00  0.79    0.02   \n",
      "HADS          -0.09 -0.07 -0.12     -0.10 -0.06  0.69  0.79  1.00   -0.00   \n",
      "婴儿行为特征         0.01  0.05 -0.03      0.01 -0.06 -0.02  0.02 -0.00    1.00   \n",
      "婴儿性别          -0.05 -0.05 -0.02      0.02 -0.11  0.11  0.06  0.04   -0.04   \n",
      "婴儿年龄（月）       -0.01  0.01  0.03      0.01 -0.05 -0.06 -0.04  0.01    0.06   \n",
      "整晚睡眠时间（时：分：秒）  0.05 -0.07 -0.01      0.05  0.02 -0.11 -0.21 -0.14   -0.02   \n",
      "睡醒次数           0.02 -0.03  0.08      0.09 -0.06  0.06  0.14  0.11    0.12   \n",
      "入睡方式          -0.10 -0.13 -0.04      0.03  0.06  0.04 -0.00  0.05   -0.08   \n",
      "\n",
      "               婴儿性别  婴儿年龄（月）  整晚睡眠时间（时：分：秒）  睡醒次数  入睡方式  \n",
      "母亲年龄          -0.05    -0.01           0.05  0.02 -0.10  \n",
      "婚姻状况          -0.05     0.01          -0.07 -0.03 -0.13  \n",
      "教育程度          -0.02     0.03          -0.01  0.08 -0.04  \n",
      "妊娠时间（周数）       0.02     0.01           0.05  0.09  0.03  \n",
      "分娩方式          -0.11    -0.05           0.02 -0.06  0.06  \n",
      "CBTS           0.11    -0.06          -0.11  0.06  0.04  \n",
      "EPDS           0.06    -0.04          -0.21  0.14 -0.00  \n",
      "HADS           0.04     0.01          -0.14  0.11  0.05  \n",
      "婴儿行为特征        -0.04     0.06          -0.02  0.12 -0.08  \n",
      "婴儿性别           1.00     0.00          -0.06  0.07 -0.02  \n",
      "婴儿年龄（月）        0.00     1.00           0.15  0.03  0.18  \n",
      "整晚睡眠时间（时：分：秒） -0.06     0.15           1.00 -0.28  0.26  \n",
      "睡醒次数           0.07     0.03          -0.28  1.00 -0.27  \n",
      "入睡方式          -0.02     0.18           0.26 -0.27  1.00  \n",
      "================================================================================\n",
      "[[ 1.    0.03  0.21 -0.07  0.04 -0.05 -0.12 -0.09  0.01 -0.05 -0.01  0.05\n",
      "   0.02 -0.1 ]\n",
      " [ 0.03  1.    0.11 -0.06 -0.   -0.02 -0.05 -0.07  0.05 -0.05  0.01 -0.07\n",
      "  -0.03 -0.13]\n",
      " [ 0.21  0.11  1.    0.03 -0.01 -0.1  -0.12 -0.12 -0.03 -0.02  0.03 -0.01\n",
      "   0.08 -0.04]\n",
      " [-0.07 -0.06  0.03  1.   -0.21 -0.13 -0.06 -0.1   0.01  0.02  0.01  0.05\n",
      "   0.09  0.03]\n",
      " [ 0.04 -0.   -0.01 -0.21  1.   -0.03 -0.03 -0.06 -0.06 -0.11 -0.05  0.02\n",
      "  -0.06  0.06]\n",
      " [-0.05 -0.02 -0.1  -0.13 -0.03  1.    0.78  0.69 -0.02  0.11 -0.06 -0.11\n",
      "   0.06  0.04]\n",
      " [-0.12 -0.05 -0.12 -0.06 -0.03  0.78  1.    0.79  0.02  0.06 -0.04 -0.21\n",
      "   0.14 -0.  ]\n",
      " [-0.09 -0.07 -0.12 -0.1  -0.06  0.69  0.79  1.   -0.    0.04  0.01 -0.14\n",
      "   0.11  0.05]\n",
      " [ 0.01  0.05 -0.03  0.01 -0.06 -0.02  0.02 -0.    1.   -0.04  0.06 -0.02\n",
      "   0.12 -0.08]\n",
      " [-0.05 -0.05 -0.02  0.02 -0.11  0.11  0.06  0.04 -0.04  1.    0.   -0.06\n",
      "   0.07 -0.02]\n",
      " [-0.01  0.01  0.03  0.01 -0.05 -0.06 -0.04  0.01  0.06  0.    1.    0.15\n",
      "   0.03  0.18]\n",
      " [ 0.05 -0.07 -0.01  0.05  0.02 -0.11 -0.21 -0.14 -0.02 -0.06  0.15  1.\n",
      "  -0.28  0.26]\n",
      " [ 0.02 -0.03  0.08  0.09 -0.06  0.06  0.14  0.11  0.12  0.07  0.03 -0.28\n",
      "   1.   -0.27]\n",
      " [-0.1  -0.13 -0.04  0.03  0.06  0.04 -0.    0.05 -0.08 -0.02  0.18  0.26\n",
      "  -0.27  1.  ]]\n",
      "(14, 14)\n"
     ]
    }
   ],
   "source": [
    "import numpy as np\n",
    "corr_matrix = df.corr()\n",
    "\n",
    "\n",
    "# 对相关系数矩阵进行四舍五入保留两位小数\n",
    "corr_matrix = np.round(corr_matrix, decimals=2)\n",
    "\n",
    "# 设置样式，输出\n",
    "\n",
    "print(corr_matrix)\n",
    "print(\"================================================================================\")\n",
    "print(corr_matrix.values)\n",
    "print(corr_matrix.shape)"
   ]
  },
  {
   "cell_type": "markdown",
   "id": "59631766",
   "metadata": {},
   "source": [
    "**婴儿的行为特征是一个单独的特征**\n",
    "\n",
    "**但是睡眠质量是有几个指标，所以我们要先建立婴儿睡眠质量评价标准**\n",
    "\n"
   ]
  },
  {
   "cell_type": "markdown",
   "id": "c894d47a",
   "metadata": {},
   "source": [
    "### 分别进行分类\n",
    "\n",
    "**婴儿的行为特征和睡眠质量**\n",
    "\n",
    "**母亲的身体指标和心理指标**"
   ]
  },
  {
   "cell_type": "markdown",
   "id": "a4563666",
   "metadata": {},
   "source": [
    "### 第二问 \n",
    "可以先使用神经网络拟合出答案\n",
    "\n",
    "然后使用L1正则化进行降维（目前390数据量对8维特征进行学习不太合理）"
   ]
  },
  {
   "cell_type": "markdown",
   "id": "1a39cf50",
   "metadata": {},
   "source": [
    "### 关键问题\n",
    "\n",
    "**建立母亲身体和心理到婴儿睡眠质量的模型**\n"
   ]
  }
 ],
 "metadata": {
  "celltoolbar": "无",
  "kernelspec": {
   "display_name": "Python 3 (ipykernel)",
   "language": "python",
   "name": "python3"
  },
  "language_info": {
   "codemirror_mode": {
    "name": "ipython",
    "version": 3
   },
   "file_extension": ".py",
   "mimetype": "text/x-python",
   "name": "python",
   "nbconvert_exporter": "python",
   "pygments_lexer": "ipython3",
   "version": "3.9.17"
  }
 },
 "nbformat": 4,
 "nbformat_minor": 5
}
