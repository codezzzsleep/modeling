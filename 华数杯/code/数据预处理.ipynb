{
 "cells": [
  {
   "cell_type": "code",
   "execution_count": 50,
   "id": "8d395b03",
   "metadata": {},
   "outputs": [
    {
     "name": "stdout",
     "output_type": "stream",
     "text": [
      "母亲年龄数据异常： 0\n",
      "<class 'numpy.int64'>\n"
     ]
    }
   ],
   "source": [
    "import pandas as pd\n",
    "\n",
    "df = pd.read_excel(\"../dataset/demo.xlsx\")\n",
    "\n",
    "df = df.iloc[:, :15]\n",
    "outliers = df[(df['母亲年龄'] < 16) | (df['母亲年龄'] > 75)]\n",
    "print('母亲年龄数据异常：',len(outliers))\n",
    "print(type(df['母亲年龄'].iloc[179]) )"
   ]
  },
  {
   "cell_type": "code",
   "execution_count": 11,
   "id": "2ca72643",
   "metadata": {},
   "outputs": [
    {
     "name": "stdout",
     "output_type": "stream",
     "text": [
      "婚姻状况数据异常： 9\n",
      "      编号  母亲年龄  婚姻状况  教育程度  妊娠时间（周数）  分娩方式  CBTS  EPDS  HADS 婴儿行为特征  婴儿性别  \\\n",
      "42    43    35     3     3      35.0     1     5     4     8    安静型     1   \n",
      "94    95    33     3     3      39.4     1     0     3     4    安静型     2   \n",
      "133  134    35     3     4      40.0     1     0     0     6    中等型     2   \n",
      "195  196    34     3     5      40.1     1     0     0     0    安静型     1   \n",
      "230  231    31     6     5      38.2     1     7    12     7    矛盾型     1   \n",
      "300  301    26     3     5      36.0     1     9    23    11    中等型     1   \n",
      "305  306    26     6     5      39.0     1     7     1     5    中等型     2   \n",
      "307  308    38     3     5      39.0     1    13    20    11    中等型     2   \n",
      "354  355    31     3     3      34.0     1     4     5     8    安静型     1   \n",
      "\n",
      "     婴儿年龄（月） 整晚睡眠时间（时：分：秒）  睡醒次数  入睡方式  \n",
      "42         3      10:30:00   0.0   4.0  \n",
      "94         1      07:00:00   1.0   4.0  \n",
      "133        3      11:00:00   0.0   4.0  \n",
      "195        2      11:00:00   3.0   1.0  \n",
      "230        2      09:00:00   1.0   1.0  \n",
      "300        3      11:00:00   3.0   1.0  \n",
      "305        3      08:00:00   2.0   1.0  \n",
      "307        2      09:00:00   1.0   2.0  \n",
      "354        1      09:30:00   0.0   1.0  \n"
     ]
    }
   ],
   "source": [
    "outliers = df[(df['婚姻状况'] != 1) & (df['婚姻状况'] != 2)]\n",
    "print('婚姻状况数据异常：',len(outliers))\n",
    "print(outliers)"
   ]
  },
  {
   "cell_type": "code",
   "execution_count": 15,
   "id": "17deb901",
   "metadata": {},
   "outputs": [
    {
     "name": "stdout",
     "output_type": "stream",
     "text": [
      "教育程度数据异常： 0\n",
      "Empty DataFrame\n",
      "Columns: [编号, 母亲年龄, 婚姻状况, 教育程度, 妊娠时间（周数）, 分娩方式, CBTS, EPDS, HADS, 婴儿行为特征, 婴儿性别, 婴儿年龄（月）, 整晚睡眠时间（时：分：秒）, 睡醒次数, 入睡方式]\n",
      "Index: []\n"
     ]
    }
   ],
   "source": [
    "outliers = df[(df['教育程度'] < 1) | (df['教育程度'] > 5)]\n",
    "print('教育程度数据异常：',len(outliers))\n",
    "print(outliers)"
   ]
  },
  {
   "cell_type": "code",
   "execution_count": 16,
   "id": "60a27460",
   "metadata": {},
   "outputs": [
    {
     "name": "stdout",
     "output_type": "stream",
     "text": [
      "妊娠时间（周数）数据异常： 2\n",
      "      编号  母亲年龄  婚姻状况  教育程度  妊娠时间（周数）  分娩方式  CBTS  EPDS  HADS 婴儿行为特征  婴儿性别  \\\n",
      "107  108    33     2     5      27.5     1    15     1     2    中等型     2   \n",
      "237  238    24     2     2      26.5     1    15    22    18    矛盾型     1   \n",
      "\n",
      "     婴儿年龄（月） 整晚睡眠时间（时：分：秒）  睡醒次数  入睡方式  \n",
      "107        2      10:30:00   1.0   4.0  \n",
      "237        2      09:00:00   2.0   3.0  \n"
     ]
    }
   ],
   "source": [
    "outliers = df[(df['妊娠时间（周数）'] < 30) | (df['妊娠时间（周数）'] > 50)]\n",
    "print('妊娠时间（周数）数据异常：',len(outliers))\n",
    "print(outliers)"
   ]
  },
  {
   "cell_type": "code",
   "execution_count": 17,
   "id": "e8e7d69b",
   "metadata": {},
   "outputs": [
    {
     "name": "stdout",
     "output_type": "stream",
     "text": [
      "分娩方式数据异常： 0\n",
      "Empty DataFrame\n",
      "Columns: [编号, 母亲年龄, 婚姻状况, 教育程度, 妊娠时间（周数）, 分娩方式, CBTS, EPDS, HADS, 婴儿行为特征, 婴儿性别, 婴儿年龄（月）, 整晚睡眠时间（时：分：秒）, 睡醒次数, 入睡方式]\n",
      "Index: []\n"
     ]
    }
   ],
   "source": [
    "outliers = df[(df['分娩方式'] != 1) & (df['分娩方式'] != 2)]\n",
    "print('分娩方式数据异常：',len(outliers))\n",
    "print(outliers)"
   ]
  },
  {
   "cell_type": "code",
   "execution_count": 18,
   "id": "842860c6",
   "metadata": {},
   "outputs": [
    {
     "name": "stdout",
     "output_type": "stream",
     "text": [
      "CBTS数据异常： 0\n",
      "Empty DataFrame\n",
      "Columns: [编号, 母亲年龄, 婚姻状况, 教育程度, 妊娠时间（周数）, 分娩方式, CBTS, EPDS, HADS, 婴儿行为特征, 婴儿性别, 婴儿年龄（月）, 整晚睡眠时间（时：分：秒）, 睡醒次数, 入睡方式]\n",
      "Index: []\n"
     ]
    }
   ],
   "source": [
    "outliers = df[(df['CBTS'] < 0) | (df['CBTS'] > 30)]\n",
    "print('CBTS数据异常：',len(outliers))\n",
    "print(outliers)"
   ]
  },
  {
   "cell_type": "code",
   "execution_count": 19,
   "id": "5a3bd077",
   "metadata": {},
   "outputs": [
    {
     "name": "stdout",
     "output_type": "stream",
     "text": [
      "EPDS数据异常： 0\n",
      "Empty DataFrame\n",
      "Columns: [编号, 母亲年龄, 婚姻状况, 教育程度, 妊娠时间（周数）, 分娩方式, CBTS, EPDS, HADS, 婴儿行为特征, 婴儿性别, 婴儿年龄（月）, 整晚睡眠时间（时：分：秒）, 睡醒次数, 入睡方式]\n",
      "Index: []\n"
     ]
    }
   ],
   "source": [
    "outliers = df[(df['EPDS'] < 0) | (df['EPDS'] > 30)]\n",
    "print('EPDS数据异常：',len(outliers))\n",
    "print(outliers)"
   ]
  },
  {
   "cell_type": "code",
   "execution_count": 20,
   "id": "02dcc6ce",
   "metadata": {},
   "outputs": [
    {
     "name": "stdout",
     "output_type": "stream",
     "text": [
      "HADS数据异常： 0\n",
      "Empty DataFrame\n",
      "Columns: [编号, 母亲年龄, 婚姻状况, 教育程度, 妊娠时间（周数）, 分娩方式, CBTS, EPDS, HADS, 婴儿行为特征, 婴儿性别, 婴儿年龄（月）, 整晚睡眠时间（时：分：秒）, 睡醒次数, 入睡方式]\n",
      "Index: []\n"
     ]
    }
   ],
   "source": [
    "outliers = df[(df['HADS'] < 0) | (df['HADS'] > 30)]\n",
    "print('HADS数据异常：',len(outliers))\n",
    "print(outliers)"
   ]
  },
  {
   "cell_type": "code",
   "execution_count": 23,
   "id": "dfecf6a2",
   "metadata": {},
   "outputs": [
    {
     "name": "stdout",
     "output_type": "stream",
     "text": [
      "中等型    225\n",
      "安静型    120\n",
      "矛盾型     45\n",
      "Name: 婴儿行为特征, dtype: int64\n",
      "390\n"
     ]
    }
   ],
   "source": [
    "type_counts = df['婴儿行为特征'].value_counts()\n",
    "print(type_counts)\n",
    "print(sum(type_counts))"
   ]
  },
  {
   "cell_type": "code",
   "execution_count": 24,
   "id": "950ed08e",
   "metadata": {},
   "outputs": [
    {
     "name": "stdout",
     "output_type": "stream",
     "text": [
      "婴儿性别数据异常： 0\n",
      "Empty DataFrame\n",
      "Columns: [编号, 母亲年龄, 婚姻状况, 教育程度, 妊娠时间（周数）, 分娩方式, CBTS, EPDS, HADS, 婴儿行为特征, 婴儿性别, 婴儿年龄（月）, 整晚睡眠时间（时：分：秒）, 睡醒次数, 入睡方式]\n",
      "Index: []\n"
     ]
    }
   ],
   "source": [
    "outliers = df[(df['婴儿性别'] != 1) & (df['婴儿性别'] != 2)]\n",
    "print('婴儿性别数据异常：',len(outliers))\n",
    "print(outliers)"
   ]
  },
  {
   "cell_type": "code",
   "execution_count": 27,
   "id": "f2cc6844",
   "metadata": {},
   "outputs": [
    {
     "name": "stdout",
     "output_type": "stream",
     "text": [
      "婴儿年龄（月）数据异常： 0\n",
      "Empty DataFrame\n",
      "Columns: [编号, 母亲年龄, 婚姻状况, 教育程度, 妊娠时间（周数）, 分娩方式, CBTS, EPDS, HADS, 婴儿行为特征, 婴儿性别, 婴儿年龄（月）, 整晚睡眠时间（时：分：秒）, 睡醒次数, 入睡方式]\n",
      "Index: []\n"
     ]
    }
   ],
   "source": [
    "outliers = df[(df['婴儿年龄（月）'] < 1) | (df['婴儿年龄（月）'] > 3)]\n",
    "print('婴儿年龄（月）数据异常：',len(outliers))\n",
    "print(outliers)"
   ]
  },
  {
   "cell_type": "code",
   "execution_count": 56,
   "id": "6b6e8513",
   "metadata": {},
   "outputs": [
    {
     "name": "stdout",
     "output_type": "stream",
     "text": [
      "睡醒次数数据异常： 0\n",
      "Empty DataFrame\n",
      "Columns: [编号, 母亲年龄, 婚姻状况, 教育程度, 妊娠时间（周数）, 分娩方式, CBTS, EPDS, HADS, 婴儿行为特征, 婴儿性别, 婴儿年龄（月）, 整晚睡眠时间（时：分：秒）, 睡醒次数, 入睡方式]\n",
      "Index: []\n"
     ]
    }
   ],
   "source": [
    "outliers = df[(df['睡醒次数'] < 0)]\n",
    "print('睡醒次数数据异常：',len(outliers))\n",
    "print(outliers)"
   ]
  },
  {
   "cell_type": "code",
   "execution_count": 58,
   "id": "f081f6cf",
   "metadata": {},
   "outputs": [
    {
     "name": "stdout",
     "output_type": "stream",
     "text": [
      "入睡方式数据异常： 0\n",
      "Empty DataFrame\n",
      "Columns: [编号, 母亲年龄, 婚姻状况, 教育程度, 妊娠时间（周数）, 分娩方式, CBTS, EPDS, HADS, 婴儿行为特征, 婴儿性别, 婴儿年龄（月）, 整晚睡眠时间（时：分：秒）, 睡醒次数, 入睡方式]\n",
      "Index: []\n"
     ]
    }
   ],
   "source": [
    "outliers = df[(df['入睡方式'] < 1) | (df['入睡方式'] > 5)]\n",
    "print('入睡方式数据异常：',len(outliers))\n",
    "print(outliers)"
   ]
  }
 ],
 "metadata": {
  "kernelspec": {
   "display_name": "Python 3 (ipykernel)",
   "language": "python",
   "name": "python3"
  },
  "language_info": {
   "codemirror_mode": {
    "name": "ipython",
    "version": 3
   },
   "file_extension": ".py",
   "mimetype": "text/x-python",
   "name": "python",
   "nbconvert_exporter": "python",
   "pygments_lexer": "ipython3",
   "version": "3.9.17"
  }
 },
 "nbformat": 4,
 "nbformat_minor": 5
}
